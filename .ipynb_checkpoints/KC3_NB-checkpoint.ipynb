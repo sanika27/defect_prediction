{
 "cells": [
  {
   "cell_type": "code",
   "execution_count": null,
   "metadata": {},
   "outputs": [],
   "source": [
    "# importing pandas\n",
    "import pandas as pd\n",
    "#fetch data and add headers\n",
    "filepath = 'promise_KC3.csv'\n",
    "column = [\"loc\",\"v(g)\",\"ev(g)\",\"n\",\"v\",\"l\",\"d\",\"i\",\"e\",\"b\",\"t\",\n",
    "          \"loCode\",\"loComment\",\"loBlank\",\"locCodeAndComment\",\n",
    "          \"uniq_Opnd\",\"total_Op\",\"branchCount\",\"defects\"]\n",
    "df = pd.read_csv(filepath, names=column)\n",
    "\n",
    "\n",
    "LOC_BLANK numeric\n",
    "@attribute BRANCH_COUNT numeric\n",
    "@attribute CALL_PAIRS numeric\n",
    "@attribute LOC_CODE_AND_COMMENT numeric\n",
    "@attribute LOC_COMMENTS numeric\n",
    "@attribute CONDITION_COUNT numeric\n",
    "@attribute CYCLOMATIC_COMPLEXITY numeric\n",
    "@attribute CYCLOMATIC_DENSITY numeric\n",
    "@attribute DECISION_COUNT numeric\n",
    "@attribute DECISION_DENSITY numeric\n",
    "@attribute DESIGN_COMPLEXITY numeric\n",
    "@attribute DESIGN_DENSITY numeric\n",
    "@attribute EDGE_COUNT numeric\n",
    "@attribute ESSENTIAL_COMPLEXITY numeric\n",
    "@attribute ESSENTIAL_DENSITY numeric\n",
    "@attribute LOC_EXECUTABLE numeric\n",
    "@attribute PARAMETER_COUNT numeric\n",
    "@attribute GLOBAL_DATA_COMPLEXITY numeric\n",
    "@attribute GLOBAL_DATA_DENSITY numeric\n",
    "@attribute HALSTEAD_CONTENT numeric\n",
    "@attribute HALSTEAD_DIFFICULTY numeric\n",
    "@attribute HALSTEAD_EFFORT numeric\n",
    "@attribute HALSTEAD_ERROR_EST numeric\n",
    "@attribute HALSTEAD_LENGTH numeric\n",
    "@attribute HALSTEAD_LEVEL numeric\n",
    "@attribute HALSTEAD_PROG_TIME numeric\n",
    "@attribute HALSTEAD_VOLUME numeric\n",
    "@attribute MAINTENANCE_SEVERITY numeric\n",
    "@attribute MODIFIED_CONDITION_COUNT numeric\n",
    "@attribute MULTIPLE_CONDITION_COUNT numeric\n",
    "@attribute NODE_COUNT numeric\n",
    "@attribute NORMALIZED_CYLOMATIC_COMPLEXITY numeric\n",
    "@attribute NUM_OPERANDS numeric\n",
    "@attribute NUM_OPERATORS numeric\n",
    "@attribute NUM_UNIQUE_OPERANDS numeric\n",
    "@attribute NUM_UNIQUE_OPERATORS numeric\n",
    "@attribute NUMBER_OF_LINES numeric\n",
    "@attribute PERCENT_COMMENTS numeric\n",
    "@attribute LOC_TOTAL numeric\n",
    "@attribute c {FALSE,TRUE}"
   ]
  }
 ],
 "metadata": {
  "kernelspec": {
   "display_name": "Python 3",
   "language": "python",
   "name": "python3"
  },
  "language_info": {
   "codemirror_mode": {
    "name": "ipython",
    "version": 3
   },
   "file_extension": ".py",
   "mimetype": "text/x-python",
   "name": "python",
   "nbconvert_exporter": "python",
   "pygments_lexer": "ipython3",
   "version": "3.6.9"
  }
 },
 "nbformat": 4,
 "nbformat_minor": 2
}
