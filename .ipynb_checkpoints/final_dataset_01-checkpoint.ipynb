{
 "cells": [
  {
   "cell_type": "code",
   "execution_count": 4,
   "metadata": {},
   "outputs": [
    {
     "ename": "NameError",
     "evalue": "name 'buggy_list_label' is not defined",
     "output_type": "error",
     "traceback": [
      "\u001b[0;31m---------------------------------------------------------------------------\u001b[0m",
      "\u001b[0;31mNameError\u001b[0m                                 Traceback (most recent call last)",
      "\u001b[0;32m<ipython-input-4-7a9caa6a1204>\u001b[0m in \u001b[0;36m<module>\u001b[0;34m\u001b[0m\n\u001b[1;32m     38\u001b[0m                 \u001b[0mbuggy_commits\u001b[0m \u001b[0;34m=\u001b[0m \u001b[0mgr\u001b[0m\u001b[0;34m.\u001b[0m\u001b[0mget_commits_last_modified_lines\u001b[0m\u001b[0;34m(\u001b[0m\u001b[0mcommit1\u001b[0m\u001b[0;34m)\u001b[0m \u001b[0;31m#get bug inducing commits\u001b[0m\u001b[0;34m\u001b[0m\u001b[0;34m\u001b[0m\u001b[0m\n\u001b[1;32m     39\u001b[0m                 \u001b[0;32mfor\u001b[0m \u001b[0mx\u001b[0m \u001b[0;32min\u001b[0m \u001b[0mbuggy_commits\u001b[0m\u001b[0;34m:\u001b[0m\u001b[0;34m\u001b[0m\u001b[0;34m\u001b[0m\u001b[0m\n\u001b[0;32m---> 40\u001b[0;31m                     \u001b[0mbuggy_list_label\u001b[0m\u001b[0;34m.\u001b[0m\u001b[0mappend\u001b[0m\u001b[0;34m(\u001b[0m\u001b[0mx\u001b[0m\u001b[0;34m)\u001b[0m\u001b[0;34m\u001b[0m\u001b[0;34m\u001b[0m\u001b[0m\n\u001b[0m\u001b[1;32m     41\u001b[0m                 \u001b[0;31m#Calculate metrics for all commits\u001b[0m\u001b[0;34m\u001b[0m\u001b[0;34m\u001b[0m\u001b[0;34m\u001b[0m\u001b[0m\n\u001b[1;32m     42\u001b[0m                 \u001b[0;32mfor\u001b[0m \u001b[0mr\u001b[0m\u001b[0;34m,\u001b[0m \u001b[0md\u001b[0m\u001b[0;34m,\u001b[0m \u001b[0mf\u001b[0m \u001b[0;32min\u001b[0m \u001b[0mos\u001b[0m\u001b[0;34m.\u001b[0m\u001b[0mwalk\u001b[0m\u001b[0;34m(\u001b[0m\u001b[0mrepo_updated\u001b[0m\u001b[0;34m)\u001b[0m\u001b[0;34m:\u001b[0m\u001b[0;34m\u001b[0m\u001b[0;34m\u001b[0m\u001b[0m\n",
      "\u001b[0;31mNameError\u001b[0m: name 'buggy_list_label' is not defined"
     ]
    }
   ],
   "source": [
    "#extract data with release filter\n",
    "import os\n",
    "import csv\n",
    "import pandas as pd\n",
    "from pydriller import RepositoryMining\n",
    "from radon.raw import analyze\n",
    "from radon.metrics import h_visit\n",
    "from radon.metrics import h_visit_ast\n",
    "from radon.complexity import sorted_results\n",
    "from pydriller.git_repository import GitRepository\n",
    "\n",
    "fields = ['CommitID','filename','token_count','change_type','loc','lloc','sloc','comments',\n",
    "          'multi','blank','code_comment','h1','h2','N1','N2','vocabulary','length',\n",
    "          'calculated_length','volume', 'difficulty','effort','time','bugs']\n",
    "# 'lines_added','lines_removed',\n",
    "repo_updated = \"/Users/sanika/Downloads/Master Thesis/repo_updated/pytest\"\n",
    "    \n",
    "gr = GitRepository(\"/Users/sanika/Downloads/Master Thesis/repo_updated/pytest\")\n",
    "# no_commits = gitrepo.total_commits() #total number of commits\n",
    "\n",
    "count = 0\n",
    "buggy_list = []\n",
    "\n",
    "with open('final_dataset_01.csv', 'w') as csvFile:\n",
    "    writer = csv.DictWriter(csvFile, fieldnames = fields)\n",
    "    writer.writeheader()\n",
    "    for commit in RepositoryMining(repo_updated,\n",
    "                                   only_modifications_with_file_types=['.py'] ).traverse_commits():\n",
    "        for modification in commit.modifications:\n",
    "            filename = modification.filename\n",
    "            hash_val = commit.hash\n",
    "            change_type = modification.change_type\n",
    "            token_count = modification.token_count\n",
    "#                 added = modification.added\n",
    "#                 removed = modification.removed\n",
    "            if filename.endswith(\".py\"):\n",
    "                #Get bug inducing commits in a list\n",
    "                commit1 = gr.get_commit(commit.hash)\n",
    "                buggy_commits = gr.get_commits_last_modified_lines(commit1) #get bug inducing commits\n",
    "                for x in buggy_commits:\n",
    "                    buggy_list.append(x)\n",
    "                #Calculate metrics for all commits\n",
    "                for r, d, f in os.walk(repo_updated):\n",
    "                    for file in f:\n",
    "                        if filename in file:\n",
    "                            file_path = os.path.join(r, file)\n",
    "                            with open(file_path) as f:\n",
    "                                content = f.read()\n",
    "                                file_analyze = analyze(content)\n",
    "                                code_n_comment = file_analyze.loc+file_analyze.comments\n",
    "                                file_ast = h_visit(content)\n",
    "                                data = [{'CommitID':(hash_val), \n",
    "                                         'filename':(file_path),\n",
    "                                     'token_count':(token_count),\n",
    "                                     'change_type':(change_type),\n",
    "#                                      'lines_added':(added),\n",
    "#                                      'lines_removed':(removed),\n",
    "                                     'loc':(file_analyze.loc),\n",
    "                                     'lloc':(file_analyze.lloc),\n",
    "                                     'sloc':(file_analyze.sloc),\n",
    "                                     'comments':(file_analyze.comments),\n",
    "                                     'multi':(file_analyze.multi),\n",
    "                                     'blank':(file_analyze.blank),\n",
    "                                     'code_comment':(code_n_comment),\n",
    "                                     'h1':(file_ast.total.h1),\n",
    "                                     'h2':(file_ast.total.h2),\n",
    "                                     'N1':(file_ast.total.N1),\n",
    "                                     'N2':(file_ast.total.N2),\n",
    "                                     'vocabulary':(file_ast.total.vocabulary),\n",
    "                                     'length':(file_ast.total.length),\n",
    "                                     'calculated_length':(file_ast.total.calculated_length),\n",
    "                                     'volume':(file_ast.total.volume),                     \n",
    "                                     'difficulty':(file_ast.total.difficulty),\n",
    "                                     'effort':(file_ast.total.effort),\n",
    "                                     'time':(file_ast.total.time),\n",
    "                                     'bugs':(file_ast.total.bugs),}]\n",
    "                                writer.writerows(data)  \n",
    "print(\"writing completed\")\n",
    "csvFile.close()"
   ]
  },
  {
   "cell_type": "code",
   "execution_count": null,
   "metadata": {},
   "outputs": [],
   "source": []
  },
  {
   "cell_type": "code",
   "execution_count": null,
   "metadata": {},
   "outputs": [],
   "source": []
  },
  {
   "cell_type": "code",
   "execution_count": null,
   "metadata": {},
   "outputs": [],
   "source": []
  }
 ],
 "metadata": {
  "kernelspec": {
   "display_name": "Python 3",
   "language": "python",
   "name": "python3"
  },
  "language_info": {
   "codemirror_mode": {
    "name": "ipython",
    "version": 3
   },
   "file_extension": ".py",
   "mimetype": "text/x-python",
   "name": "python",
   "nbconvert_exporter": "python",
   "pygments_lexer": "ipython3",
   "version": "3.6.9"
  }
 },
 "nbformat": 4,
 "nbformat_minor": 2
}
