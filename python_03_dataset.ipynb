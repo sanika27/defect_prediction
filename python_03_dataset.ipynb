{
 "cells": [
  {
   "cell_type": "code",
   "execution_count": 5,
   "metadata": {},
   "outputs": [],
   "source": [
    "#Import required libraries\n",
    "import os\n",
    "import csv\n",
    "import pandas as pd\n",
    "from pydriller import RepositoryMining\n",
    "from radon.raw import analyze\n",
    "from radon.metrics import h_visit\n",
    "from radon.metrics import h_visit_ast\n",
    "from radon.complexity import sorted_results\n",
    "from pydriller.git_repository import GitRepository"
   ]
  },
  {
   "cell_type": "code",
   "execution_count": null,
   "metadata": {},
   "outputs": [],
   "source": [
    "#Define Python-specific keywords as per their categories\n",
    "introspection = ['type','getattr','hasattr', 'isinstance', 'issubclass',\n",
    "                 'vars', 'callable', 'locals', 'globals', 'super']\n",
    "object_changes = ['setattr', 'delattr','del']\n",
    "code_generation = ['compile', 'eval''exec', 'execfile']\n",
    "library_loading = ['import','reload']"
   ]
  },
  {
   "cell_type": "code",
   "execution_count": null,
   "metadata": {},
   "outputs": [],
   "source": [
    "#Read file with static code metrics and code churn features\n",
    "filepath = 'python_02.csv'\n",
    "column = ['complexity','token_count','loc','lloc','sloc','comments',\n",
    "          'multi','blank','code_comment','h1','h2','N1','N2','vocabulary','length',\n",
    "          'calculated_length','volume', 'difficulty','effort','time','bugs','change_type','added','removed',\n",
    "          'defect']\n",
    "df1 = pd.read_csv(filepath, usecols= column, index_col=False)"
   ]
  },
  {
   "cell_type": "code",
   "execution_count": null,
   "metadata": {},
   "outputs": [],
   "source": [
    "#Define lists to append values to\n",
    "introspection_list = []\n",
    "object_changes_list = []\n",
    "code_generation_list = []\n",
    "library_loading_list = []\n",
    "\n",
    "#Initialize count to zero\n",
    "introspection_count = 0\n",
    "object_changes_count = 0\n",
    "code_generation_count = 0\n",
    "library_loading_count = 0\n",
    "count = 0\n",
    "\n",
    "for commit in RepositoryMining(#path_to_repo#,\n",
    "                                   only_modifications_with_file_types=['.py'] ).traverse_commits():\n",
    "        for modification in commit.modifications:\n",
    "            filename = modification.filename\n",
    "            if filename.endswith(\".py\"):\n",
    "                for r, d, f in os.walk(repo_updated):\n",
    "                    for file in f:\n",
    "                        if filename in file:\n",
    "                            file_path = os.path.join(r, file)\n",
    "                            with open(file_path) as f:\n",
    "                                content = f.read()\n",
    "                                file_analyze = analyze(content)\n",
    "                                code_n_comment = file_analyze.loc+file_analyze.comments\n",
    "                                #Increment count for category if keyword found in the souce code\n",
    "                                for item1 in introspection:\n",
    "                                    if item1 in content:\n",
    "                                        introspection_count += 1\n",
    "                                for item2 in object_changes:\n",
    "                                    if item2 in content:\n",
    "                                        object_changes_count += 1                                        \n",
    "                                for item3 in code_generation:\n",
    "                                    if item3 in content:\n",
    "                                        code_generation_count += 1\n",
    "                                for item4 in library_loading:\n",
    "                                    if item4 in content:\n",
    "                                        library_loading_count += 1\n",
    "                                \n",
    "                                introspection_list.append(introspection_count)\n",
    "                                object_changes_list.append(object_changes_count)\n",
    "                                code_generation_list.append(code_generation_count),\n",
    "                                library_loading_list.append(library_loading_count)\n",
    "                                count += 1"
   ]
  },
  {
   "cell_type": "code",
   "execution_count": null,
   "metadata": {},
   "outputs": [],
   "source": [
    "#assign the list to new columns in the dataset\n",
    "df_03 ['introspection'] = introspection_list\n",
    "df_03 ['object_changes'] = object_changes_list\n",
    "df_03 ['code_generation'] = code_generation_list\n",
    "df_03 ['library_loading'] = library_loading_list"
   ]
  },
  {
   "cell_type": "code",
   "execution_count": 14,
   "metadata": {},
   "outputs": [],
   "source": [
    "#writing updated data to CSV\n",
    "df_03.to_csv('python_03.csv')"
   ]
  },
  {
   "cell_type": "code",
   "execution_count": null,
   "metadata": {},
   "outputs": [],
   "source": [
    "#fetch data and add headers\n",
    "filepath = 'python_03.csv'\n",
    "column = ['complexity','token_count','loc','lloc','sloc','comments',\n",
    "          'multi','blank','code_comment','h1','h2','N1','N2','vocabulary','length',\n",
    "          'calculated_length','volume', 'difficulty','effort','time','bugs','change_type','added','removed',\n",
    "          'defect','introspection','object_changes','code_generation','library_loading']\n",
    "df_0303 = pd.read_csv(filepath, usecols= column, index_col=False)"
   ]
  }
 ],
 "metadata": {
  "kernelspec": {
   "display_name": "Python 3",
   "language": "python",
   "name": "python3"
  },
  "language_info": {
   "codemirror_mode": {
    "name": "ipython",
    "version": 3
   },
   "file_extension": ".py",
   "mimetype": "text/x-python",
   "name": "python",
   "nbconvert_exporter": "python",
   "pygments_lexer": "ipython3",
   "version": "3.6.9"
  }
 },
 "nbformat": 4,
 "nbformat_minor": 2
}
