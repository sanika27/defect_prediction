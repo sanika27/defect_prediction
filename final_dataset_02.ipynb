{
 "cells": [
  {
   "cell_type": "code",
   "execution_count": 15,
   "metadata": {},
   "outputs": [],
   "source": [
    "# extract data with release filter for code churn\n",
    "import os\n",
    "import csv\n",
    "from pydriller import RepositoryMining\n",
    "from pydriller.git_repository import GitRepository\n",
    "\n",
    "# fields = ['CommitID','filename','token_count','change_type','loc','lloc','sloc','comments',\n",
    "#           'multi','blank','code_comment','h1','h2','N1','N2','vocabulary','length',\n",
    "#           'calculated_length','volume', 'difficulty','effort','time','bugs']\n",
    "# 'lines_added','lines_removed',\n",
    "repo_updated = \"/Users/sanika/Downloads/Master Thesis/repo_updated/pytest\"\n",
    "    \n",
    "# buggy_list = []\n",
    "added = []\n",
    "removed = []\n",
    "change_type = []\n",
    "\n",
    "for commit in RepositoryMining(repo_updated,\n",
    "                                   only_modifications_with_file_types=['.py'],\n",
    "                              only_commits=['39d9f7cff5eafb29369c1e29c8e6f59505776cd2', \n",
    "                                            '28b8f3ca3aa00ce4b9b0b0620eb053a17cc0e133', \n",
    "                                            'abd5fc80e84b79d38e2cb622c7124155b0931ddd']).traverse_commits():\n",
    "        for modification in commit.modifications:\n",
    "            filename = modification.filename\n",
    "            hash_val = commit.hash\n",
    "            change_type.append(modification.change_type)\n",
    "            added.append(modification.added)\n",
    "            removed.append(modification.removed)\n",
    "            \n",
    "            \n",
    "#             ADD, COPY, RENAME, DELETE, MODIFY or UNKNOWN"
   ]
  },
  {
   "cell_type": "code",
   "execution_count": 16,
   "metadata": {},
   "outputs": [
    {
     "data": {
      "text/plain": [
       "list"
      ]
     },
     "execution_count": 16,
     "metadata": {},
     "output_type": "execute_result"
    }
   ],
   "source": [
    "type(added)"
   ]
  },
  {
   "cell_type": "code",
   "execution_count": 17,
   "metadata": {},
   "outputs": [
    {
     "data": {
      "text/plain": [
       "[2, 44, 14]"
      ]
     },
     "execution_count": 17,
     "metadata": {},
     "output_type": "execute_result"
    }
   ],
   "source": [
    "added"
   ]
  },
  {
   "cell_type": "code",
   "execution_count": 18,
   "metadata": {},
   "outputs": [
    {
     "data": {
      "text/plain": [
       "[39, 0, 31]"
      ]
     },
     "execution_count": 18,
     "metadata": {},
     "output_type": "execute_result"
    }
   ],
   "source": [
    "removed"
   ]
  },
  {
   "cell_type": "code",
   "execution_count": null,
   "metadata": {},
   "outputs": [],
   "source": []
  }
 ],
 "metadata": {
  "kernelspec": {
   "display_name": "Python 3",
   "language": "python",
   "name": "python3"
  },
  "language_info": {
   "codemirror_mode": {
    "name": "ipython",
    "version": 3
   },
   "file_extension": ".py",
   "mimetype": "text/x-python",
   "name": "python",
   "nbconvert_exporter": "python",
   "pygments_lexer": "ipython3",
   "version": "3.6.9"
  }
 },
 "nbformat": 4,
 "nbformat_minor": 2
}
