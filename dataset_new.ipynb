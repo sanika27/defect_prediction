{
 "cells": [
  {
   "cell_type": "code",
   "execution_count": 1,
   "metadata": {},
   "outputs": [
    {
     "ename": "SyntaxError",
     "evalue": "invalid syntax (<unknown>, line 4)",
     "output_type": "error",
     "traceback": [
      "Traceback \u001b[0;36m(most recent call last)\u001b[0m:\n",
      "  File \u001b[1;32m\"/Users/sanika/anaconda3/lib/python3.6/site-packages/IPython/core/interactiveshell.py\"\u001b[0m, line \u001b[1;32m3319\u001b[0m, in \u001b[1;35mrun_code\u001b[0m\n    exec(code_obj, self.user_global_ns, self.user_ns)\n",
      "  File \u001b[1;32m\"<ipython-input-1-86c167d03d57>\"\u001b[0m, line \u001b[1;32m30\u001b[0m, in \u001b[1;35m<module>\u001b[0m\n    file_ast = h_visit(content) #Compile the code into an AST tree\n",
      "  File \u001b[1;32m\"/Users/sanika/anaconda3/lib/python3.6/site-packages/radon/metrics.py\"\u001b[0m, line \u001b[1;32m26\u001b[0m, in \u001b[1;35mh_visit\u001b[0m\n    return h_visit_ast(ast.parse(code))\n",
      "\u001b[0;36m  File \u001b[0;32m\"/Users/sanika/anaconda3/lib/python3.6/ast.py\"\u001b[0;36m, line \u001b[0;32m35\u001b[0;36m, in \u001b[0;35mparse\u001b[0;36m\u001b[0m\n\u001b[0;31m    return compile(source, filename, mode, PyCF_ONLY_AST)\u001b[0m\n",
      "\u001b[0;36m  File \u001b[0;32m\"<unknown>\"\u001b[0;36m, line \u001b[0;32m4\u001b[0m\n\u001b[0;31m    except ZeroDivisionError, e:\u001b[0m\n\u001b[0m                            ^\u001b[0m\n\u001b[0;31mSyntaxError\u001b[0m\u001b[0;31m:\u001b[0m invalid syntax\n"
     ]
    }
   ],
   "source": [
    "import os\n",
    "import csv\n",
    "from pydriller import RepositoryMining\n",
    "from radon.raw import analyze\n",
    "from radon.metrics import h_visit\n",
    "from radon.metrics import h_visit_ast\n",
    "from radon.complexity import sorted_results\n",
    "from pydriller.git_repository import GitRepository\n",
    "\n",
    "# directory = '/Users/sanika/Downloads/Master Thesis/Implementation/test_loop_files'\n",
    "\n",
    "fields = ['loc','lloc','sloc','comments','multi','blank','code_comment','h1',\n",
    "         'h2','N1','N2','vocabulary','length','calculated_length','volume',                     \n",
    "         'difficulty','effort','time','bugs']\n",
    "\n",
    "\n",
    "repo = GitRepository(\"/Users/sanika/Downloads/Master Thesis/repo/pytest\")\n",
    "files = repo.files()\n",
    "count = 0\n",
    "\n",
    "with open('extracted_data_new.csv', 'w') as csvFile:\n",
    "    writer = csv.DictWriter(csvFile, fieldnames = fields)\n",
    "    writer.writeheader()\n",
    "    for filename in files:\n",
    "        if filename.endswith(\".py\"):\n",
    "            with open(filename) as f:\n",
    "                content = f.read()\n",
    "                file_analyze = analyze(content) #raw metrics\n",
    "                code_n_comment = file_analyze.loc+file_analyze.comments\n",
    "                file_ast = h_visit(content) #Compile the code into an AST tree\n",
    "                count = count + 1\n",
    "                data = [{\n",
    "                     'loc':(file_analyze.loc),\n",
    "                     'lloc':(file_analyze.lloc),\n",
    "                     'sloc':(file_analyze.sloc),\n",
    "                     'comments':(file_analyze.comments),\n",
    "                     'multi':(file_analyze.multi),\n",
    "                     'blank':(file_analyze.blank),\n",
    "                     'code_comment':(code_n_comment),\n",
    "                     'h1':(file_ast.total.h1),\n",
    "                     'h2':(file_ast.total.h2),\n",
    "                     'N1':(file_ast.total.N1),\n",
    "                     'N2':(file_ast.total.N2),\n",
    "                     'vocabulary':(file_ast.total.vocabulary),\n",
    "                     'length':(file_ast.total.length),\n",
    "                     'calculated_length':(file_ast.total.calculated_length),\n",
    "                     'volume':(file_ast.total.volume),                     \n",
    "                     'difficulty':(file_ast.total.difficulty),\n",
    "                     'effort':(file_ast.total.effort),\n",
    "                     'time':(file_ast.total.time),\n",
    "                     'bugs':(file_ast.total.bugs),                     \n",
    "                    }]\n",
    "#                 count = count + 1\n",
    "#                 print(count, filename)\n",
    "                writer.writerows(data)\n",
    "\n",
    "print(\"writing completed\")\n",
    "csvFile.close()"
   ]
  },
  {
   "cell_type": "code",
   "execution_count": null,
   "metadata": {},
   "outputs": [],
   "source": []
  }
 ],
 "metadata": {
  "kernelspec": {
   "display_name": "Python 3",
   "language": "python",
   "name": "python3"
  },
  "language_info": {
   "codemirror_mode": {
    "name": "ipython",
    "version": 3
   },
   "file_extension": ".py",
   "mimetype": "text/x-python",
   "name": "python",
   "nbconvert_exporter": "python",
   "pygments_lexer": "ipython3",
   "version": "3.6.9"
  }
 },
 "nbformat": 4,
 "nbformat_minor": 2
}
