{
 "cells": [
  {
   "cell_type": "code",
   "execution_count": 2,
   "metadata": {},
   "outputs": [
    {
     "name": "stdout",
     "output_type": "stream",
     "text": [
      "File: wccommand.py has complexity of 157 it contains 461 lines of code\n"
     ]
    }
   ],
   "source": [
    "# Single file\n",
    "from pydriller import RepositoryMining\n",
    "\n",
    "for commit in RepositoryMining('/Users/sanika/Downloads/Master Thesis/repo/pytest', \n",
    "                               single='b8307eeccc883e38eaed226ac75adb2af89c9e2d').traverse_commits():\n",
    "    for mod in commit.modifications:\n",
    "        #mod.filename = genrest.py\n",
    "        print(\"File: {}\".format(mod.filename),\n",
    "              \"has complexity of {}\".format(mod.complexity),\n",
    "              \"it contains {} lines of code\".format(mod.nloc)\n",
    "             )"
   ]
  },
  {
   "cell_type": "code",
   "execution_count": 3,
   "metadata": {},
   "outputs": [
    {
     "name": "stdout",
     "output_type": "stream",
     "text": [
      "COMMIT eee0e143341179a14c96af980ca14d01696de769 COMPLEX None LOC None\n",
      "COMMIT 076e03e90f45a1424bd1ac35c2b80c3609486b23 COMPLEX None LOC None\n",
      "COMMIT a698465487a9cd92e8223d7f9be0e7710272f8ca COMPLEX 15 LOC 135\n",
      "COMMIT 4fa7a2e8ceaa8819964ecfc0a44665f78b4d0fb3 COMPLEX 16 LOC 142\n",
      "COMMIT 7636dc76e0abe66cae1d1c691a3175182c8d24c2 COMPLEX 17 LOC 155\n",
      "COMMIT a51e52aee367d10cf5076796413ee1b31a9d3711 COMPLEX 19 LOC 174\n",
      "COMMIT 68786a6434d554505d28402fd322370645f5cdba COMPLEX 21 LOC 189\n",
      "COMMIT 94ee37cdb3715cf02bb3918b7cb3aa496f6cbb86 COMPLEX 25 LOC 213\n",
      "COMMIT c478027805539cc3cbef11ebe830caf6c748b808 COMPLEX 27 LOC 228\n",
      "COMMIT 8ac5af289666e023aa4189fb62d28d406b9e6bb6 COMPLEX 27 LOC 228\n",
      "COMMIT 1fd1617427ea370994f0eedf448d38d981d3d9f8 COMPLEX 27 LOC 228\n",
      "COMMIT 97da43d909a90278ca1991c5c87aa631eb6b11ec COMPLEX 27 LOC 228\n",
      "COMMIT ce8678e6d5a3047998e21d76a59e2dc40867744c COMPLEX 29 LOC 247\n",
      "COMMIT 1408c9f0774af2131b8e854b353c724fd02a8d32 COMPLEX 31 LOC 264\n",
      "COMMIT be503f1c43e8051be1093be9193b50d08096d682 COMPLEX 31 LOC 264\n",
      "COMMIT 777bde7c604ad5ae70dfb25632fe621255b40b84 COMPLEX 31 LOC 262\n",
      "COMMIT ea4e9fa4e27828d5848d45bb8aa1b07e3ddc86aa COMPLEX 31 LOC 262\n",
      "COMMIT f1c9554f42f4a4335315045a6bd85fe5e93c2b91 COMPLEX 31 LOC 262\n",
      "COMMIT a8afba054a687b2735e9016a3a7335ebdf0846ea COMPLEX 31 LOC 262\n",
      "COMMIT db5649ec6a8fcd9ef148b9f77797a22cb9f3cda1 COMPLEX 32 LOC 268\n",
      "COMMIT d6670bd6a86aa57e1ce931132ecce3118f226137 COMPLEX 32 LOC 268\n",
      "COMMIT b3166a538c3b35c6dbde9b52f9d48278fc7dcfed COMPLEX 32 LOC 272\n",
      "COMMIT df767cca8fd87dca546349abc6481e227672fe01 COMPLEX 32 LOC 272\n",
      "COMMIT f46de6880483a60e3295c2e02ce86c5b6485251c COMPLEX 34 LOC 283\n",
      "COMMIT 808cb8e3ad9d15e905ec845c99e81f3d670c4f8f COMPLEX 34 LOC 283\n",
      "COMMIT 199fcf93d4154146737b700aba1d1db627c45ed9 COMPLEX 34 LOC 287\n",
      "COMMIT ed3c96ee58e915abe0e252ce6efc5d717aabbb8b COMPLEX 34 LOC 287\n",
      "COMMIT a912d3745bcbbc49999dc9becf0d5545849d44ea COMPLEX 34 LOC 287\n",
      "COMMIT 52ac6cd7a975ce09dc845d8074cb47a09ffae497 COMPLEX 34 LOC 287\n",
      "COMMIT 2e04771893f17b571e6ab48f6884a6a70cde8fc8 COMPLEX 34 LOC 287\n",
      "COMMIT 51694b829589b14dc651b62c18300df5aaef2409 COMPLEX 34 LOC 287\n",
      "COMMIT b95ff7104cb55b675db9c7b23d75ead3cbc95687 COMPLEX 34 LOC 287\n",
      "COMMIT df9918eda3aa72bc65873240790e0aa0aad777d2 COMPLEX 34 LOC 287\n",
      "COMMIT 3d263c64c3fab2ac985952ebc16bde6b641b7263 COMPLEX 34 LOC 287\n",
      "COMMIT 9a5224e2f89922533107e1bdabfd64eac726697d COMPLEX 34 LOC 287\n",
      "COMMIT c519b9517a8057d6b8132bd3f7d55e684bdbd15a COMPLEX 34 LOC 287\n",
      "COMMIT b9a91dc112efa64c5723912234e5ebd074821068 COMPLEX 34 LOC 287\n",
      "COMMIT 293351cfd05ef66bed1301727c6e9bb9be392e29 COMPLEX 34 LOC 287\n",
      "COMMIT 458ecae1df0ede57182db685e7b9b3b8f0c7a652 COMPLEX 34 LOC 289\n",
      "COMMIT 7ee3dd1cb5e40056283f1b2b39c2586429ac55bf COMPLEX 38 LOC 305\n",
      "COMMIT 4c56c95eb81ba2da247a8c782f5d37c3166a5be9 COMPLEX 34 LOC 289\n",
      "COMMIT c4f20a183429624bacdda73b0d7e63e30be4722f COMPLEX 38 LOC 307\n",
      "COMMIT 1266ebec8334f4d774285fae0629b6415fad102d COMPLEX 38 LOC 307\n",
      "COMMIT e0f08a73abd3edbae910ede82d6b4525401b5f95 COMPLEX 38 LOC 307\n",
      "COMMIT 4f2bf965cbe9615cad5730c3d859a761d5ee46d3 COMPLEX 38 LOC 307\n",
      "COMMIT 10b3274924af304b705f98d2801bd196be4663db COMPLEX 40 LOC 325\n",
      "COMMIT 696a9112beacdaf970d06809dcb0fd04e69325e9 COMPLEX 40 LOC 325\n",
      "COMMIT a094fb3aa691966a76eed0a1bb603118ec26365a COMPLEX 40 LOC 325\n",
      "COMMIT f5d900d972c16d1d515d43e00501046c9b2905f7 COMPLEX 40 LOC 325\n",
      "COMMIT 98ac1dd34bebc070e1ea4f6dbdaa3b5f4f47a66b COMPLEX 40 LOC 325\n",
      "COMMIT c7b4b8cf6fe3b2bb608f392839a2638857d6509a COMPLEX 42 LOC 337\n",
      "COMMIT d75748ef6f158aca7e253d0632615bc67072d946 COMPLEX 44 LOC 354\n",
      "COMMIT 5e96edd43556fad89eb33cb962a14d4375d1dd56 COMPLEX 44 LOC 354\n",
      "COMMIT 11ec96a927e5571f39ab290d31fbb41200c791b8 COMPLEX 29 LOC 316\n",
      "COMMIT 60a347aeb51582f6fee87497dfdb4f079a6f5c82 COMPLEX 29 LOC 316\n",
      "COMMIT f2c01c5407f3c7853bdd463b8aa2856e3a6398e1 COMPLEX 30 LOC 319\n",
      "COMMIT 7f95ea31d581bde8a3486e1794eff820d5b7c739 COMPLEX 30 LOC 319\n",
      "COMMIT efc54b2e561b101bffd79c711a4e1038814a4ce5 COMPLEX 34 LOC 348\n",
      "COMMIT 0fab78ee8f444a8815fcd7603b35c2cbb7301fed COMPLEX 34 LOC 348\n",
      "COMMIT 1eb5a690d4c416962b6ccf46618367f68e54ea89 COMPLEX 30 LOC 319\n",
      "COMMIT a3319ffe802d532e303b232a961bf63b92ec2144 COMPLEX 30 LOC 319\n",
      "COMMIT 5ce551e469fa16a292227815e8fb1a8dd779bfa9 COMPLEX 34 LOC 348\n",
      "COMMIT bd343ef7571072f5c103b168cb341b1d95921d88 COMPLEX 34 LOC 348\n",
      "COMMIT d1c725078a8c2fccfc573772e1944b9fe2a902e6 COMPLEX 31 LOC 332\n",
      "COMMIT ad56cd8027756a8bc1aa83402bbfffeae3520129 COMPLEX 31 LOC 332\n",
      "COMMIT 3d9c5cf19fa821c785866133d3417215cde2bc55 COMPLEX 31 LOC 332\n",
      "COMMIT fb0b90646ec86ced32d146ee42e25f4cd72d2229 COMPLEX 34 LOC 348\n",
      "COMMIT abd6ad37515ba12da0e91c6c7a68af77a37395ef COMPLEX 34 LOC 348\n",
      "COMMIT a7643a5fbe462acfee2759f76f5b4bc08689194f COMPLEX 34 LOC 348\n",
      "COMMIT 1e0cf5ce4dcd8b110a45261595d69a502dd0226a COMPLEX 35 LOC 361\n",
      "COMMIT d1ea7c8cc8f304ba90900bdef0cfa73395a0fbd5 COMPLEX 35 LOC 361\n",
      "COMMIT 0baed781fe417b1c5e4481088245ecb48a8abc56 COMPLEX 35 LOC 361\n",
      "COMMIT 42a5d6bdfa620fc13809c861a05077ef6d6f2a6a COMPLEX 35 LOC 362\n",
      "COMMIT a122ae85e9bc7cd494c505818dea4032c916ae1d COMPLEX 35 LOC 362\n",
      "COMMIT 9f85584656c08648fb2f78ab60b43f1048f4a04d COMPLEX 35 LOC 362\n",
      "COMMIT 3aa4fb62d677e18bcb618fd2d3f6439502bb3bd5 COMPLEX 31 LOC 332\n",
      "COMMIT d343f9497ca176d4af2e52ae69fffda0d8516d5b COMPLEX 35 LOC 362\n",
      "COMMIT 2e8caefcab33942a754ee7ddf7697fe487a4367a COMPLEX 35 LOC 362\n",
      "COMMIT 8f3eb6dfc7d5e9ceca694ccf2c4906bbea969faf COMPLEX 35 LOC 362\n",
      "COMMIT 195a81652239142f715d8d765b83429240e19c70 COMPLEX 35 LOC 362\n",
      "COMMIT 7248b759e88ff282cab5bf289d4d7047ef0bfaad COMPLEX 35 LOC 362\n",
      "COMMIT 4fd92ef9ba270dc5b80864b3d9b4b4d12fd779bb COMPLEX 35 LOC 362\n",
      "COMMIT c92760dca8637251eb9e7b9ea4819b32bc0b8042 COMPLEX 35 LOC 362\n",
      "COMMIT 9e3e58af60691f7a8ec4245a7e1e319eb86d4bcd COMPLEX 35 LOC 362\n",
      "COMMIT 258031afe586e789d121b2a02dba37ea6c4a26e1 COMPLEX 35 LOC 362\n",
      "COMMIT 7feab7391d2e4e53829f29fe898e3169b5a5b3e6 COMPLEX 35 LOC 362\n",
      "COMMIT 5c6d7739bcd7a1ea33eecff37bd2c2271cf5309c COMPLEX 35 LOC 362\n",
      "COMMIT f8f1a52ea0f844226b25364c3d764e52f10c605a COMPLEX 35 LOC 362\n",
      "COMMIT 4a3863c2e28df69b59315a14b3a2ae4767d07ef9 COMPLEX 34 LOC 361\n",
      "COMMIT ff90c9e23765159469a0d21fee6e5fedc13f06d6 COMPLEX 34 LOC 361\n",
      "COMMIT aff463a3c4535c859a3fdfc54c96ec64a78e8834 COMPLEX 34 LOC 361\n",
      "COMMIT 9f1772e679712a2cb2ece5c6c0a8cbe5fa46bdc7 COMPLEX 34 LOC 361\n",
      "COMMIT 74633815aa55f6e38ca2ac4072cc02fb247b43f5 COMPLEX 34 LOC 362\n",
      "COMMIT e64feaba7ab05e06b65dc6b9a722a4f39c01cd58 COMPLEX 34 LOC 362\n",
      "COMMIT 9202ba91cf1fb5fe180166781b35edafb2cb1ce4 COMPLEX 34 LOC 362\n",
      "COMMIT 7656fc8320b5920d860e9028f322475a021e7666 COMPLEX 36 LOC 390\n",
      "COMMIT ce1872e7e87fd97a3e8e9daf2797f38dd8aff985 COMPLEX 34 LOC 362\n",
      "COMMIT 247cdb835a404f9668022984bb688496b48e5809 COMPLEX 34 LOC 361\n",
      "COMMIT 6bc45d158d1bd27db618a2bb18e9f9a99aeb8044 COMPLEX 36 LOC 391\n",
      "COMMIT 69d608aec39c45de898f434b03d49bc112f0499f COMPLEX 36 LOC 391\n",
      "COMMIT f263932883904345299d8ec25a908ff320ff9b5b COMPLEX 36 LOC 391\n",
      "COMMIT 069f32a8c452e7dbd4d10d4da2c142dd24bb5953 COMPLEX 37 LOC 406\n",
      "COMMIT 9d879bee360d4119800c0bc44f1be987b300e2a4 COMPLEX 36 LOC 390\n",
      "COMMIT 51ece00923885fa41107e7469d510cb2233406af COMPLEX 38 LOC 408\n",
      "COMMIT 97bb6abcfa4d78f5bd9d0478d4aecd32d4910974 COMPLEX 38 LOC 408\n",
      "COMMIT 7a62619a75693ed7ec6c74841a423ea07e50dfa7 COMPLEX 38 LOC 407\n",
      "COMMIT 0f58fc881b795478d3f93f8f2bbd6b73a11b4c57 COMPLEX 39 LOC 424\n",
      "COMMIT 0a3c80e959f5120148d297db17394456f840e6ae COMPLEX 39 LOC 424\n",
      "COMMIT 8d90591b3305a245df318e2c78dd3fa27839ecad COMPLEX 39 LOC 424\n",
      "COMMIT c032d4c5d57460f5bd4212bd1404c420359dcca3 COMPLEX 39 LOC 424\n",
      "COMMIT 5a53b9aabb296f18b77edabb6b873195c27ebd34 COMPLEX 46 LOC 404\n",
      "COMMIT ed118d7f2051ccfdb5c56cb6535e6f89485b1225 COMPLEX 39 LOC 424\n",
      "COMMIT a1ff758d0d0fbb1655e85472fe896b3356dac404 COMPLEX 48 LOC 450\n",
      "COMMIT db581eabcbc8a279020cceb5217a2ca593024aba COMPLEX 55 LOC 490\n",
      "COMMIT 242fb7852b66e2dc419e8a1d8b0150876ae38eac COMPLEX 54 LOC 493\n",
      "COMMIT e97bd87ee20635bf585900747c3b571fd43e0fa8 COMPLEX 54 LOC 493\n",
      "COMMIT f1f4c8c10481ab643a497876dfaed713f54c9479 COMPLEX 54 LOC 500\n",
      "COMMIT 3998b70ff6e5268e828d87d4afde39aa7f867dee COMPLEX 55 LOC 523\n",
      "COMMIT 09e5a226dceb925450bd38f0e06739901d9b9706 COMPLEX 55 LOC 532\n",
      "COMMIT 804392e5f2222fc2c83d7a8a098b58ca4c126195 COMPLEX 56 LOC 515\n",
      "COMMIT 4d847593b323d041c11df15c8158a330caf07a79 COMPLEX 55 LOC 512\n",
      "COMMIT 0762666bd116d92b55f746cde8e25e965ea2912b COMPLEX 55 LOC 512\n",
      "COMMIT 2241c98b18cbc2c9ac26b94a07872610cfb36da3 COMPLEX 58 LOC 546\n"
     ]
    },
    {
     "name": "stdout",
     "output_type": "stream",
     "text": [
      "COMMIT 132fb61ebad5ab9836678f3a8476fb4a0c597932 COMPLEX 58 LOC 546\n",
      "COMMIT c258fe1459638437ba4d2ecd77862091369183e6 COMPLEX 59 LOC 554\n",
      "COMMIT 1a880be85b4aaa42f38c9a4922a9ad8338dd7552 COMPLEX 59 LOC 553\n",
      "COMMIT b03b387861f6630846995aa59f4b5ef7f4adb526 COMPLEX 59 LOC 553\n",
      "COMMIT 703e4b11ba76171eccd3f13e723c47b810ded7ef COMPLEX 59 LOC 625\n",
      "COMMIT a36bab448f4b4a88e617cdaba7e80ed03a371244 COMPLEX 59 LOC 625\n",
      "COMMIT cbaa7dd56a685c887e25d4c94b62aa49e8a6a0ca COMPLEX 59 LOC 625\n",
      "COMMIT f93995e15c377d9050eb09bcf9518914067ff402 COMPLEX 59 LOC 625\n",
      "COMMIT 89e0a3ec27309e0f2c27887c2eaee8fde612d460 COMPLEX 59 LOC 625\n",
      "COMMIT 6b239263da3c8a2d1e659584a0c16a77875a9f00 COMPLEX 59 LOC 625\n",
      "COMMIT 952bbefaac3836e4c4a8ae6e0919dabcb90a448a COMPLEX 60 LOC 641\n",
      "COMMIT 533f4cc10cf95933c532bac78e60bed38001ee52 COMPLEX 60 LOC 641\n",
      "COMMIT 0b704779309332de3937bfa94eb3eb0b43b055c3 COMPLEX 60 LOC 641\n",
      "COMMIT bc268a58d13ab398fac9c3c7d651296426d2fbb2 COMPLEX 60 LOC 641\n",
      "COMMIT 10a8691ecade7ee3ebbf7223a9873bf83935f473 COMPLEX 61 LOC 661\n",
      "COMMIT 6cc4fe2412047dcea25bf2735db5896684680284 COMPLEX 61 LOC 661\n",
      "COMMIT 2f1a2cf07f521abb6a226d01205a124ae516a334 COMPLEX 61 LOC 659\n",
      "COMMIT 4a925ef5e9334c12ac6ad8b8146dec6d664b9945 COMPLEX 61 LOC 659\n",
      "COMMIT 067de257e140ec4ec716368c69c80f9278743fb7 COMPLEX 61 LOC 659\n",
      "COMMIT 3c19370cec606217e36ac136ee19d97185f3a43e COMPLEX 59 LOC 625\n",
      "COMMIT 303133f013ea8408d76b8041e955faebb46e004e COMPLEX 61 LOC 659\n",
      "COMMIT 8bb8b913570f215a9bff505799418ef9034609ec COMPLEX 61 LOC 661\n",
      "COMMIT f2e35c8c4ff832ee107d851f2c6193fd614b763b COMPLEX 61 LOC 661\n",
      "COMMIT 3396225f74561f741dcc576e63c6f169bc08eda5 COMPLEX 61 LOC 661\n",
      "COMMIT 2f2d5861bb14c9b61d4bea846b6d8043b9f6081d COMPLEX 61 LOC 661\n",
      "COMMIT 80eef29681c9a5412f73022552bf24a98c80ac9a COMPLEX 61 LOC 661\n",
      "COMMIT e7eb7e799bdfbd9ec167cdd0684291216ef169a3 COMPLEX 62 LOC 678\n",
      "COMMIT 7aff81739eeb3183e10be71349043724e3e3edf4 COMPLEX 62 LOC 678\n",
      "COMMIT 56d0b5a7e2eb5a02b048d870eb065024d07437de COMPLEX 62 LOC 678\n",
      "COMMIT e03a19f88d17aab7c6830b21104b31be0da68068 COMPLEX 62 LOC 678\n",
      "COMMIT 956b3aca97cadf4fd802b60607115d1276f62229 COMPLEX 62 LOC 683\n",
      "COMMIT c14a23d4e46810e613401ec095803debcf3b4af5 COMPLEX 62 LOC 678\n",
      "COMMIT f36f9d26983d55d861968757e075b2f8d02e5a1c COMPLEX 62 LOC 678\n",
      "COMMIT be511c1a054b718b839dc847001ea50262c834b1 COMPLEX 62 LOC 681\n",
      "COMMIT c9a85b0e78e744e2101473d313f7b50e2ecc408f COMPLEX 62 LOC 676\n",
      "COMMIT e20987ce825e6b012ae7e57594a37d3bcc7a6485 COMPLEX 62 LOC 681\n",
      "COMMIT 0f5263cdc36db27295f31298338bbd91f5bbc8c1 COMPLEX 62 LOC 679\n",
      "COMMIT 29d58495190e3e214aeedc74869b9e2ebab14cbb COMPLEX 62 LOC 679\n",
      "COMMIT 24c83d725ad75edecc678344130d91affbacf0f3 COMPLEX 62 LOC 679\n",
      "COMMIT d3d8d53e413d36eb12b387c404c65e6ce18805b1 COMPLEX 62 LOC 679\n",
      "COMMIT 448830e6566735919068b34e5e40abccf05ff524 COMPLEX 64 LOC 681\n",
      "COMMIT 86c7dcff689ecb72a27f6d9dd48abf56bb9d969d COMPLEX 62 LOC 687\n",
      "COMMIT e3bf9cede4151c930092f68e7088a3e1a379241b COMPLEX 64 LOC 689\n",
      "COMMIT 3bfaa8ab84dc996ac815d33b4cf7bfda1307dd4e COMPLEX 64 LOC 689\n",
      "COMMIT d6832a8b56cd5ec8e12a5ed6c48e949705c9c08d COMPLEX 64 LOC 697\n",
      "COMMIT 9646a1cd7a0f9ec8655d2fb681f81f5e4bf557ca COMPLEX 64 LOC 697\n",
      "COMMIT e4e4fd1e521c3a6235adedb179915c9c74bd08d4 COMPLEX 64 LOC 697\n",
      "COMMIT f947cb261325af662e9c455b35f64945f24edc28 COMPLEX 64 LOC 697\n",
      "COMMIT b6fa4e248f16afb277ae229997417ed839931bed COMPLEX 64 LOC 702\n",
      "COMMIT 2368fbb63cf144e2bed4120686a4a136647426f0 COMPLEX 64 LOC 704\n",
      "COMMIT a4ea66cb1fcbb8a7723c764d67a817a0afdee36d COMPLEX 64 LOC 713\n",
      "COMMIT ede3a4e850e8d2d3dedbb90eca84bc80a6f6bc27 COMPLEX 64 LOC 723\n",
      "COMMIT ccdb248397fb54325675c5a359de6804d27f9b4d COMPLEX 64 LOC 704\n",
      "COMMIT f466105d66723f226555224e619683abbce93fe4 COMPLEX 64 LOC 723\n",
      "COMMIT 777e9e1e17ffe389f92010802484b5b18c7406bf COMPLEX 64 LOC 730\n",
      "COMMIT bf199175371349999d2e65f5f25c59be2a9c6f00 COMPLEX 64 LOC 730\n",
      "COMMIT e0038b82f7e76b73f2555fc8b065f94513570020 COMPLEX 65 LOC 745\n",
      "COMMIT 017e504a11278d1edd9a29f12962bb6caeb85b9b COMPLEX 65 LOC 745\n",
      "COMMIT e61e81a7b53496ea53f1f9958a2be5468190b8ef COMPLEX 65 LOC 728\n",
      "COMMIT f2b9bbdd4a934d37b05c65371bdfd7de0cddc28c COMPLEX 65 LOC 728\n",
      "COMMIT d1c9c545716e6a0f2dcf64502f1b15681043bb32 COMPLEX 66 LOC 769\n",
      "COMMIT 5eb4016110787b8603d0b6382798becf0de373a8 COMPLEX 66 LOC 769\n",
      "COMMIT dc20dedbc788bc41927612c9ca66b30cc614ecac COMPLEX 66 LOC 772\n",
      "COMMIT 8198e7cd33d5ddb55231d3fab58511003dcdbaef COMPLEX 66 LOC 772\n",
      "COMMIT 9dec146edf5baf74a82b91fc85762c8676b604b8 COMPLEX 66 LOC 772\n",
      "COMMIT 92a2884b09eb793a390460012e6e2859da87767a COMPLEX 67 LOC 800\n",
      "COMMIT 7eb28f9eb7222ea9a08d0b7ffdec29353769519f COMPLEX 65 LOC 751\n",
      "COMMIT b531f7d5857ca5b07d8a282c89a1a201857d4b04 COMPLEX 65 LOC 751\n",
      "COMMIT 63f38de38e2ff58063e4724eb31ff8e29bc25ebf COMPLEX 65 LOC 751\n",
      "COMMIT 8152b6837e3b47dccf7b1e65a29f99595067765f COMPLEX 66 LOC 779\n",
      "COMMIT 38adb23bd245329d26b36fd85a43aa9b3dd0406c COMPLEX 66 LOC 779\n",
      "COMMIT e69b1255d7bf765d1473e71814c35bb46f72d5b8 COMPLEX 65 LOC 794\n",
      "COMMIT 3e0e81915884df9b06bf815e3f7413d728284b1b COMPLEX 65 LOC 794\n",
      "COMMIT 7dcd9bf5add337686ec6f2ee81b24e8424319dba COMPLEX 65 LOC 794\n",
      "COMMIT 9feb4941f4e57b718427892eab0510069ec453d5 COMPLEX 66 LOC 863\n",
      "COMMIT e20e376881253b69654dbce15430b429e7b54d08 COMPLEX 66 LOC 863\n",
      "COMMIT 7b91952645964750f23293452012eca5039cc309 COMPLEX 66 LOC 863\n",
      "COMMIT 1dbf440194bc824938fb51bb518f9b28ba62425c COMPLEX 66 LOC 863\n",
      "COMMIT a868a9ac13a2ac4a021a09c926b2564dccdfc70f COMPLEX 67 LOC 876\n",
      "COMMIT f7a3e001f74a53411f0ee682eed04eef0a0bfc30 COMPLEX 68 LOC 879\n",
      "COMMIT 84555c89de241061b4afe914fd5b8807df6d5431 COMPLEX 68 LOC 879\n",
      "COMMIT 37158f530367180edcd905da4a3f576b643cba23 COMPLEX 66 LOC 861\n",
      "COMMIT bdac9d3dd0fc21cbfe63108c3180f7f90b8aea08 COMPLEX 66 LOC 863\n",
      "COMMIT 158432217c8ae7fdaf4e9c47156c72b8674d9fa5 COMPLEX 66 LOC 863\n",
      "COMMIT 7afe17740fedd423bdf22d01a45ca3bb16cbb295 COMPLEX 68 LOC 879\n",
      "COMMIT 5c57d92978b16f48f4845bc33061715b6b572599 COMPLEX 68 LOC 879\n",
      "COMMIT c75dd1067195753c47e0125ea436b60b1b0d68e7 COMPLEX 68 LOC 878\n",
      "COMMIT a624b840979ded624080c07d4d0bb0ea44af4dde COMPLEX 68 LOC 878\n",
      "COMMIT d406786a8d935cddd9c8b1388535200205527c20 COMPLEX 69 LOC 918\n",
      "COMMIT 40718efaccb701c6458f91da5aa9f6c9d58b9567 COMPLEX 69 LOC 918\n",
      "COMMIT ae067df941d16a6b410164ac21a1d9f7d77e97e0 COMPLEX 73 LOC 959\n",
      "COMMIT d53209956b4cd9345be5576d5472760b8e6de145 COMPLEX 72 LOC 1001\n",
      "COMMIT 6b5cddc48a194be365bfe3299b405131744f6765 COMPLEX 72 LOC 1001\n",
      "COMMIT 401102182395626e8a00af83e866953a4c78d566 COMPLEX 72 LOC 1004\n",
      "COMMIT 278b289f37d756bc24f5b2a0693c518b4dc1c246 COMPLEX 72 LOC 1004\n",
      "COMMIT 49d690d137be1edc79bfffce6720d1186c3eabf2 COMPLEX 72 LOC 1004\n",
      "COMMIT 757ada2fd2d0f9c5e6026f8ab2ef3c1415e1ade8 COMPLEX 73 LOC 1030\n",
      "COMMIT 973301b6752858c035c4c0b7685534e1dc0658e8 COMPLEX 73 LOC 1030\n"
     ]
    }
   ],
   "source": [
    "from pydriller import RepositoryMining\n",
    "import numpy as np\n",
    "import pandas as pd\n",
    "\n",
    "for commit in RepositoryMining('/Users/sanika/Downloads/Master Thesis/repo/pytest').traverse_commits():\n",
    "    for modification in commit.modifications:\n",
    "        if (modification.filename == 'test_pdb.py'):\n",
    "            print(\"COMMIT {}\".format(commit.hash),             \n",
    "            \"COMPLEX {}\".format(modification.complexity), \n",
    "            \"LOC {}\".format(modification.nloc),\n",
    "            )"
   ]
  },
  {
   "cell_type": "code",
   "execution_count": 7,
   "metadata": {
    "scrolled": true
   },
   "outputs": [
    {
     "data": {
      "text/plain": [
       "Module(loc=1153, lloc=520, sloc=978, comments=16, multi=15, blank=147, single_comments=13)"
      ]
     },
     "execution_count": 7,
     "metadata": {},
     "output_type": "execute_result"
    }
   ],
   "source": [
    "#Raw metrics\n",
    "from radon.raw import analyze\n",
    "from radon.visitors import ComplexityVisitor\n",
    "\n",
    "file = '/Users/sanika/Downloads/Master Thesis/repo/pytest/testing/test_pdb.py'\n",
    "with open(file) as f:\n",
    "    content = f.read()\n",
    "    file_analyze = analyze(content)\n",
    "\n",
    "file_analyze"
   ]
  },
  {
   "cell_type": "code",
   "execution_count": 20,
   "metadata": {},
   "outputs": [
    {
     "data": {
      "text/plain": [
       "1153"
      ]
     },
     "execution_count": 20,
     "metadata": {},
     "output_type": "execute_result"
    }
   ],
   "source": [
    "file_analyze.loc"
   ]
  },
  {
   "cell_type": "code",
   "execution_count": 12,
   "metadata": {},
   "outputs": [
    {
     "data": {
      "text/plain": [
       "radon.raw.Module"
      ]
     },
     "execution_count": 12,
     "metadata": {},
     "output_type": "execute_result"
    }
   ],
   "source": [
    "type(file_analyze)"
   ]
  },
  {
   "cell_type": "code",
   "execution_count": 23,
   "metadata": {},
   "outputs": [
    {
     "name": "stdout",
     "output_type": "stream",
     "text": [
      "writing completed\n"
     ]
    }
   ],
   "source": [
    "import csv\n",
    "\n",
    "fields = ['loc','lloc']\n",
    "with open('sample.csv', 'w') as csvFile:\n",
    "    writer = csv.DictWriter(csvFile, fieldnames = fields)\n",
    "    writer.writeheader()\n",
    "    \n",
    "#     for commit in RepositoryMining('/Users/sanika/Downloads/Master Thesis/repo/pytest', \n",
    "#                                    only_modifications_with_file_types=['.py']\n",
    "#                                    ).traverse_commits():\n",
    "#         for modification in commit.modifications:\n",
    "    data = [{'loc':(file_analyze.loc),\n",
    "            'lloc':(file_analyze.lloc),}]\n",
    "    writer.writerows(data)\n",
    "print(\"writing completed\")\n",
    "csvFile.close()"
   ]
  },
  {
   "cell_type": "code",
   "execution_count": 15,
   "metadata": {},
   "outputs": [
    {
     "data": {
      "text/plain": [
       "1169"
      ]
     },
     "execution_count": 15,
     "metadata": {},
     "output_type": "execute_result"
    }
   ],
   "source": [
    "code_n_comment = file_analyze.loc+','+file_analyze.comments\n",
    "code_n_comment"
   ]
  },
  {
   "cell_type": "code",
   "execution_count": 29,
   "metadata": {},
   "outputs": [
    {
     "data": {
      "text/plain": [
       "Halstead(total=HalsteadReport(h1=10, h2=179, N1=114, N2=224, vocabulary=189, length=338, calculated_length=1372.8223050791755, volume=2556.0379393867224, difficulty=6.256983240223463, effort=15993.086548118039, time=888.5048082287799, bugs=0.8520126464622408), functions=[('runpdb_and_get_report', HalsteadReport(h1=1, h2=2, N1=1, N2=2, vocabulary=3, length=3, calculated_length=2.0, volume=4.754887502163469, difficulty=0.5, effort=2.3774437510817346, time=0.1320802083934297, bugs=0.0015849625007211565)), ('custom_pdb_calls', HalsteadReport(h1=0, h2=0, N1=0, N2=0, vocabulary=0, length=0, calculated_length=0, volume=0, difficulty=0, effort=0, time=0.0, bugs=0.0)), ('custom_debugger_hook', HalsteadReport(h1=0, h2=0, N1=0, N2=0, vocabulary=0, length=0, calculated_length=0, volume=0, difficulty=0, effort=0, time=0.0, bugs=0.0)), ('pdblist', HalsteadReport(h1=0, h2=0, N1=0, N2=0, vocabulary=0, length=0, calculated_length=0, volume=0, difficulty=0, effort=0, time=0.0, bugs=0.0)), ('test_pdb_on_fail', HalsteadReport(h1=2, h2=4, N1=3, N2=5, vocabulary=6, length=8, calculated_length=10.0, volume=20.67970000576925, difficulty=1.25, effort=25.84962500721156, time=1.43609027817842, bugs=0.006893233335256416)), ('test_pdb_on_xfail', HalsteadReport(h1=2, h2=3, N1=2, N2=3, vocabulary=5, length=5, calculated_length=6.754887502163469, volume=11.60964047443681, difficulty=1.0, effort=11.60964047443681, time=0.6449800263576005, bugs=0.0038698801581456034)), ('test_pdb_on_skip', HalsteadReport(h1=1, h2=2, N1=1, N2=2, vocabulary=3, length=3, calculated_length=2.0, volume=4.754887502163469, difficulty=0.5, effort=2.3774437510817346, time=0.1320802083934297, bugs=0.0015849625007211565)), ('test_pdb_on_BdbQuit', HalsteadReport(h1=1, h2=2, N1=1, N2=2, vocabulary=3, length=3, calculated_length=2.0, volume=4.754887502163469, difficulty=0.5, effort=2.3774437510817346, time=0.1320802083934297, bugs=0.0015849625007211565)), ('test_pdb_on_KeyboardInterrupt', HalsteadReport(h1=1, h2=2, N1=1, N2=2, vocabulary=3, length=3, calculated_length=2.0, volume=4.754887502163469, difficulty=0.5, effort=2.3774437510817346, time=0.1320802083934297, bugs=0.0015849625007211565)), ('flush', HalsteadReport(h1=1, h2=2, N1=1, N2=2, vocabulary=3, length=3, calculated_length=2.0, volume=4.754887502163469, difficulty=0.5, effort=2.3774437510817346, time=0.1320802083934297, bugs=0.0015849625007211565)), ('test_pdb_unittest_postmortem', HalsteadReport(h1=2, h2=4, N1=2, N2=4, vocabulary=6, length=6, calculated_length=10.0, volume=15.509775004326936, difficulty=1.0, effort=15.509775004326936, time=0.861654166907052, bugs=0.005169925001442312)), ('test_pdb_unittest_skip', HalsteadReport(h1=1, h2=2, N1=1, N2=2, vocabulary=3, length=3, calculated_length=2.0, volume=4.754887502163469, difficulty=0.5, effort=2.3774437510817346, time=0.1320802083934297, bugs=0.0015849625007211565)), ('test_pdb_print_captured_stdout_and_stderr', HalsteadReport(h1=3, h2=7, N1=5, N2=10, vocabulary=10, length=15, calculated_length=24.406371956566698, volume=49.82892142331044, difficulty=2.142857142857143, effort=106.77626019280808, time=5.932014455156004, bugs=0.016609640474436815)), ('test_pdb_dont_print_empty_captured_stdout_and_stderr', HalsteadReport(h1=2, h2=5, N1=3, N2=6, vocabulary=7, length=9, calculated_length=13.60964047443681, volume=25.26619429851844, difficulty=1.2, effort=30.319433158222125, time=1.6844129532345624, bugs=0.008422064766172813)), ('test_pdb_print_captured_logs', HalsteadReport(h1=1, h2=4, N1=2, N2=4, vocabulary=5, length=6, calculated_length=8.0, volume=13.931568569324174, difficulty=0.5, effort=6.965784284662087, time=0.3869880158145604, bugs=0.004643856189774725)), ('test_pdb_print_captured_logs_nologging', HalsteadReport(h1=3, h2=6, N1=3, N2=6, vocabulary=9, length=9, calculated_length=20.264662506490406, volume=28.529325012980813, difficulty=1.5, effort=42.793987519471216, time=2.377443751081734, bugs=0.009509775004326938)), ('test_pdb_interaction_exception', HalsteadReport(h1=1, h2=2, N1=1, N2=2, vocabulary=3, length=3, calculated_length=2.0, volume=4.754887502163469, difficulty=0.5, effort=2.3774437510817346, time=0.1320802083934297, bugs=0.0015849625007211565)), ('test_pdb_interaction_on_collection_issue181', HalsteadReport(h1=1, h2=2, N1=1, N2=2, vocabulary=3, length=3, calculated_length=2.0, volume=4.754887502163469, difficulty=0.5, effort=2.3774437510817346, time=0.1320802083934297, bugs=0.0015849625007211565)), ('test_pdb_interaction_on_internal_error', HalsteadReport(h1=2, h2=4, N1=2, N2=4, vocabulary=6, length=6, calculated_length=10.0, volume=15.509775004326936, difficulty=1.0, effort=15.509775004326936, time=0.861654166907052, bugs=0.005169925001442312)), ('test_pdb_interaction_capturing_simple', HalsteadReport(h1=1, h2=5, N1=4, N2=8, vocabulary=6, length=12, calculated_length=11.60964047443681, volume=31.019550008653873, difficulty=0.8, effort=24.8156400069231, time=1.3786466670512834, bugs=0.010339850002884624)), ('test_pdb_set_trace_kwargs', HalsteadReport(h1=2, h2=6, N1=4, N2=8, vocabulary=8, length=12, calculated_length=17.509775004326936, volume=36.0, difficulty=1.3333333333333333, effort=48.0, time=2.6666666666666665, bugs=0.012)), ('test_pdb_set_trace_interception', HalsteadReport(h1=2, h2=4, N1=3, N2=6, vocabulary=6, length=9, calculated_length=10.0, volume=23.264662506490403, difficulty=1.5, effort=34.89699375973561, time=1.938721875540867, bugs=0.007754887502163467)), ('test_pdb_and_capsys', HalsteadReport(h1=0, h2=0, N1=0, N2=0, vocabulary=0, length=0, calculated_length=0, volume=0, difficulty=0, effort=0, time=0.0, bugs=0.0)), ('test_pdb_with_caplog_on_pdb_invocation', HalsteadReport(h1=1, h2=2, N1=1, N2=2, vocabulary=3, length=3, calculated_length=2.0, volume=4.754887502163469, difficulty=0.5, effort=2.3774437510817346, time=0.1320802083934297, bugs=0.0015849625007211565)), ('test_set_trace_capturing_afterwards', HalsteadReport(h1=0, h2=0, N1=0, N2=0, vocabulary=0, length=0, calculated_length=0, volume=0, difficulty=0, effort=0, time=0.0, bugs=0.0)), ('test_pdb_interaction_doctest', HalsteadReport(h1=2, h2=8, N1=4, N2=8, vocabulary=10, length=12, calculated_length=26.0, volume=39.863137138648355, difficulty=1.0, effort=39.863137138648355, time=2.2146187299249087, bugs=0.013287712379549451)), ('test_pdb_interaction_capturing_twice', HalsteadReport(h1=1, h2=5, N1=4, N2=8, vocabulary=6, length=12, calculated_length=11.60964047443681, volume=31.019550008653873, difficulty=0.8, effort=24.8156400069231, time=1.3786466670512834, bugs=0.010339850002884624)), ('test_pdb_with_injected_do_debug', HalsteadReport(h1=3, h2=12, N1=9, N2=18, vocabulary=15, length=27, calculated_length=47.77443751081735, volume=105.48604608143, difficulty=2.25, effort=237.3436036832175, time=13.18575576017875, bugs=0.03516201536047667)), ('test_pdb_without_capture', HalsteadReport(h1=1, h2=2, N1=1, N2=2, vocabulary=3, length=3, calculated_length=2.0, volume=4.754887502163469, difficulty=0.5, effort=2.3774437510817346, time=0.1320802083934297, bugs=0.0015849625007211565)), ('test_pdb_continue_with_recursive_debug', HalsteadReport(h1=4, h2=13, N1=11, N2=20, vocabulary=17, length=31, calculated_length=56.105716335834195, volume=126.71134807876054, difficulty=3.076923076923077, effort=389.8810710115709, time=21.660059500642827, bugs=0.04223711602625351)), ('test_pdb_used_outside_test', HalsteadReport(h1=0, h2=0, N1=0, N2=0, vocabulary=0, length=0, calculated_length=0, volume=0, difficulty=0, effort=0, time=0.0, bugs=0.0)), ('test_pdb_used_in_generate_tests', HalsteadReport(h1=0, h2=0, N1=0, N2=0, vocabulary=0, length=0, calculated_length=0, volume=0, difficulty=0, effort=0, time=0.0, bugs=0.0)), ('test_pdb_collection_failure_is_shown', HalsteadReport(h1=0, h2=0, N1=0, N2=0, vocabulary=0, length=0, calculated_length=0, volume=0, difficulty=0, effort=0, time=0.0, bugs=0.0)), ('test_enter_leave_pdb_hooks_are_called', HalsteadReport(h1=1, h2=3, N1=2, N2=4, vocabulary=4, length=6, calculated_length=4.754887502163469, volume=12.0, difficulty=0.6666666666666666, effort=8.0, time=0.4444444444444444, bugs=0.004)), ('test_pdb_custom_cls', HalsteadReport(h1=1, h2=2, N1=1, N2=2, vocabulary=3, length=3, calculated_length=2.0, volume=4.754887502163469, difficulty=0.5, effort=2.3774437510817346, time=0.1320802083934297, bugs=0.0015849625007211565)), ('test_pdb_custom_cls_invalid', HalsteadReport(h1=0, h2=0, N1=0, N2=0, vocabulary=0, length=0, calculated_length=0, volume=0, difficulty=0, effort=0, time=0.0, bugs=0.0)), ('test_pdb_validate_usepdb_cls', HalsteadReport(h1=1, h2=4, N1=2, N2=4, vocabulary=5, length=6, calculated_length=8.0, volume=13.931568569324174, difficulty=0.5, effort=6.965784284662087, time=0.3869880158145604, bugs=0.004643856189774725)), ('test_pdb_custom_cls_without_pdb', HalsteadReport(h1=1, h2=2, N1=1, N2=2, vocabulary=3, length=3, calculated_length=2.0, volume=4.754887502163469, difficulty=0.5, effort=2.3774437510817346, time=0.1320802083934297, bugs=0.0015849625007211565)), ('test_pdb_custom_cls_with_settrace', HalsteadReport(h1=1, h2=2, N1=1, N2=2, vocabulary=3, length=3, calculated_length=2.0, volume=4.754887502163469, difficulty=0.5, effort=2.3774437510817346, time=0.1320802083934297, bugs=0.0015849625007211565)), ('test_supports_breakpoint_module_global', HalsteadReport(h1=4, h2=16, N1=12, N2=24, vocabulary=20, length=36, calculated_length=72.0, volume=155.58941141594505, difficulty=3.0, effort=466.76823424783515, time=25.931568569324174, bugs=0.05186313713864835)), ('test_sys_breakpointhook_configure_and_unconfigure', HalsteadReport(h1=0, h2=0, N1=0, N2=0, vocabulary=0, length=0, calculated_length=0, volume=0, difficulty=0, effort=0, time=0.0, bugs=0.0)), ('test_pdb_custom_cls', HalsteadReport(h1=1, h2=2, N1=1, N2=2, vocabulary=3, length=3, calculated_length=2.0, volume=4.754887502163469, difficulty=0.5, effort=2.3774437510817346, time=0.1320802083934297, bugs=0.0015849625007211565)), ('test_environ_custom_class', HalsteadReport(h1=0, h2=0, N1=0, N2=0, vocabulary=0, length=0, calculated_length=0, volume=0, difficulty=0, effort=0, time=0.0, bugs=0.0)), ('test_sys_breakpoint_interception', HalsteadReport(h1=2, h2=3, N1=2, N2=4, vocabulary=5, length=6, calculated_length=6.754887502163469, volume=13.931568569324174, difficulty=1.3333333333333333, effort=18.575424759098897, time=1.0319680421721609, bugs=0.004643856189774725)), ('test_pdb_not_altered', HalsteadReport(h1=2, h2=3, N1=2, N2=4, vocabulary=5, length=6, calculated_length=6.754887502163469, volume=13.931568569324174, difficulty=1.3333333333333333, effort=18.575424759098897, time=1.0319680421721609, bugs=0.004643856189774725)), ('test_trace_sets_breakpoint', HalsteadReport(h1=3, h2=7, N1=4, N2=8, vocabulary=10, length=12, calculated_length=24.406371956566698, volume=39.863137138648355, difficulty=1.7142857142857142, effort=68.33680652339717, time=3.796489251299843, bugs=0.013287712379549451)), ('test_trace_after_runpytest', HalsteadReport(h1=2, h2=4, N1=2, N2=4, vocabulary=6, length=6, calculated_length=10.0, volume=15.509775004326936, difficulty=1.0, effort=15.509775004326936, time=0.861654166907052, bugs=0.005169925001442312)), ('test_quit_with_swallowed_SystemExit', HalsteadReport(h1=1, h2=2, N1=1, N2=2, vocabulary=3, length=3, calculated_length=2.0, volume=4.754887502163469, difficulty=0.5, effort=2.3774437510817346, time=0.1320802083934297, bugs=0.0015849625007211565)), ('test_pdb_suspends_fixture_capturing', HalsteadReport(h1=5, h2=16, N1=10, N2=20, vocabulary=21, length=30, calculated_length=75.60964047443682, volume=131.76952268336282, difficulty=3.125, effort=411.77975838550884, time=22.87665324363938, bugs=0.04392317422778761)), ('test_pdbcls_via_local_module', HalsteadReport(h1=1, h2=3, N1=2, N2=4, vocabulary=4, length=6, calculated_length=4.754887502163469, volume=12.0, difficulty=0.6666666666666666, effort=8.0, time=0.4444444444444444, bugs=0.004))])"
      ]
     },
     "execution_count": 29,
     "metadata": {},
     "output_type": "execute_result"
    }
   ],
   "source": [
    "# Compile the code into an AST tree\n",
    "from radon.metrics import h_visit\n",
    "from radon.complexity import sorted_results\n",
    "with open(file) as f:\n",
    "    content = f.read()\n",
    "    file_ast = h_visit(content)\n",
    "\n",
    "file_ast"
   ]
  },
  {
   "cell_type": "code",
   "execution_count": 30,
   "metadata": {},
   "outputs": [
    {
     "data": {
      "text/plain": [
       "Halstead(total=HalsteadReport(h1=0, h2=0, N1=0, N2=0, vocabulary=0, length=0, calculated_length=0, volume=0, difficulty=0, effort=0, time=0.0, bugs=0.0), functions=[])"
      ]
     },
     "execution_count": 30,
     "metadata": {},
     "output_type": "execute_result"
    }
   ],
   "source": [
    "# Visit the AST node using the HalsteadVisitor visitor\n",
    "from radon.metrics import h_visit_ast\n",
    "file_visit_ast = h_visit_ast(file_ast)\n",
    "file_visit_ast"
   ]
  },
  {
   "cell_type": "code",
   "execution_count": 39,
   "metadata": {},
   "outputs": [
    {
     "data": {
      "text/plain": [
       "10"
      ]
     },
     "execution_count": 39,
     "metadata": {},
     "output_type": "execute_result"
    }
   ],
   "source": [
    "file_ast.total.h1"
   ]
  },
  {
   "cell_type": "code",
   "execution_count": 22,
   "metadata": {},
   "outputs": [
    {
     "data": {
      "text/plain": [
       "[Function(name='runpdb_and_get_report', lineno=24, col_offset=0, endline=29, is_method=False, classname=None, closures=[], complexity=2),\n",
       " Function(name='custom_pdb_calls', lineno=32, col_offset=0, endline=50, is_method=False, classname=None, closures=[], complexity=1),\n",
       " Function(name='custom_debugger_hook', lineno=53, col_offset=0, endline=74, is_method=False, classname=None, closures=[], complexity=1),\n",
       " Function(name='test_trace_after_runpytest', lineno=1020, col_offset=0, endline=1020, is_method=False, classname=None, closures=[], complexity=2),\n",
       " Function(name='test_quit_with_swallowed_SystemExit', lineno=1047, col_offset=0, endline=1072, is_method=False, classname=None, closures=[], complexity=2),\n",
       " Function(name='test_pdb_suspends_fixture_capturing', lineno=1075, col_offset=0, endline=1075, is_method=False, classname=None, closures=[], complexity=8),\n",
       " Function(name='test_pdbcls_via_local_module', lineno=1124, col_offset=0, endline=1153, is_method=False, classname=None, closures=[], complexity=3)]"
      ]
     },
     "execution_count": 22,
     "metadata": {},
     "output_type": "execute_result"
    }
   ],
   "source": [
    "from radon.visitors import ComplexityVisitor\n",
    "with open(file) as f:\n",
    "    content = f.read()\n",
    "    v = ComplexityVisitor.from_code(content)\n",
    "v.functions"
   ]
  },
  {
   "cell_type": "code",
   "execution_count": 29,
   "metadata": {
    "scrolled": true
   },
   "outputs": [
    {
     "data": {
      "text/plain": [
       "[Function(name='test_pdb_continue_with_recursive_debug', lineno=615, col_offset=4, endline=615, is_method=True, classname='TestPDB', closures=[], complexity=11),\n",
       " Function(name='test_pdb_with_injected_do_debug', lineno=521, col_offset=4, endline=597, is_method=True, classname='TestPDB', closures=[], complexity=10),\n",
       " Function(name='test_supports_breakpoint_module_global', lineno=849, col_offset=4, endline=858, is_method=True, classname='TestDebuggingBreakpoints', closures=[], complexity=10),\n",
       " Function(name='test_pdb_suspends_fixture_capturing', lineno=1075, col_offset=0, endline=1075, is_method=False, classname=None, closures=[], complexity=8),\n",
       " Function(name='test_pdb_print_captured_stdout_and_stderr', lineno=195, col_offset=4, endline=222, is_method=True, classname='TestPDB', closures=[], complexity=5),\n",
       " Function(name='test_pdb_interaction_capturing_simple', lineno=340, col_offset=4, endline=362, is_method=True, classname='TestPDB', closures=[], complexity=5),\n",
       " Function(name='test_pdb_set_trace_kwargs', lineno=364, col_offset=4, endline=385, is_method=True, classname='TestPDB', closures=[], complexity=5),\n",
       " Function(name='test_pdb_interaction_capturing_twice', lineno=486, col_offset=4, endline=519, is_method=True, classname='TestPDB', closures=[], complexity=5),\n",
       " Class(name='TestTraceOption', lineno=988, col_offset=0, endline=1017, methods=[Function(name='test_trace_sets_breakpoint', lineno=989, col_offset=4, endline=1017, is_method=True, classname='TestTraceOption', closures=[], complexity=4)], inner_classes=[], real_complexity=5),\n",
       " Function(name='test_pdb_on_fail', lineno=90, col_offset=4, endline=90, is_method=True, classname='TestPDB', closures=[], complexity=4),\n",
       " Function(name='test_pdb_set_trace_interception', lineno=387, col_offset=4, endline=403, is_method=True, classname='TestPDB', closures=[], complexity=4),\n",
       " Function(name='test_pdb_interaction_doctest', lineno=461, col_offset=4, endline=484, is_method=True, classname='TestPDB', closures=[], complexity=4),\n",
       " Class(name='TestDebuggingBreakpoints', lineno=848, col_offset=0, endline=985, methods=[Function(name='test_supports_breakpoint_module_global', lineno=849, col_offset=4, endline=858, is_method=True, classname='TestDebuggingBreakpoints', closures=[], complexity=10), Function(name='test_sys_breakpointhook_configure_and_unconfigure', lineno=861, col_offset=4, endline=893, is_method=True, classname='TestDebuggingBreakpoints', closures=[], complexity=2), Function(name='test_pdb_custom_cls', lineno=895, col_offset=4, endline=895, is_method=True, classname='TestDebuggingBreakpoints', closures=[], complexity=2), Function(name='test_environ_custom_class', lineno=911, col_offset=4, endline=941, is_method=True, classname='TestDebuggingBreakpoints', closures=[], complexity=2), Function(name='test_sys_breakpoint_interception', lineno=943, col_offset=4, endline=964, is_method=True, classname='TestDebuggingBreakpoints', closures=[], complexity=3), Function(name='test_pdb_not_altered', lineno=966, col_offset=4, endline=985, is_method=True, classname='TestDebuggingBreakpoints', closures=[], complexity=3)], inner_classes=[], real_complexity=23),\n",
       " Function(name='test_trace_sets_breakpoint', lineno=989, col_offset=4, endline=1017, is_method=True, classname='TestTraceOption', closures=[], complexity=4),\n",
       " Function(name='test_pdbcls_via_local_module', lineno=1124, col_offset=0, endline=1153, is_method=False, classname=None, closures=[], complexity=3),\n",
       " Class(name='TestPDB', lineno=77, col_offset=0, endline=845, methods=[Function(name='pdblist', lineno=78, col_offset=4, endline=88, is_method=True, classname='TestPDB', closures=[Function(name='mypdb', lineno=83, col_offset=8, endline=84, is_method=False, classname=None, closures=[], complexity=1)], complexity=1), Function(name='test_pdb_on_fail', lineno=90, col_offset=4, endline=90, is_method=True, classname='TestPDB', closures=[], complexity=4), Function(name='test_pdb_on_xfail', lineno=103, col_offset=4, endline=103, is_method=True, classname='TestPDB', closures=[], complexity=3), Function(name='test_pdb_on_skip', lineno=116, col_offset=4, endline=116, is_method=True, classname='TestPDB', closures=[], complexity=3), Function(name='test_pdb_on_BdbQuit', lineno=128, col_offset=4, endline=128, is_method=True, classname='TestPDB', closures=[], complexity=3), Function(name='test_pdb_on_KeyboardInterrupt', lineno=140, col_offset=4, endline=140, is_method=True, classname='TestPDB', closures=[], complexity=3), Function(name='flush', lineno=151, col_offset=4, endline=156, is_method=True, classname='TestPDB', closures=[], complexity=3), Function(name='test_pdb_unittest_postmortem', lineno=158, col_offset=4, endline=176, is_method=True, classname='TestPDB', closures=[], complexity=2), Function(name='test_pdb_unittest_skip', lineno=178, col_offset=4, endline=193, is_method=True, classname='TestPDB', closures=[], complexity=1), Function(name='test_pdb_print_captured_stdout_and_stderr', lineno=195, col_offset=4, endline=222, is_method=True, classname='TestPDB', closures=[], complexity=5), Function(name='test_pdb_dont_print_empty_captured_stdout_and_stderr', lineno=224, col_offset=4, endline=237, is_method=True, classname='TestPDB', closures=[], complexity=3), Function(name='test_pdb_print_captured_logs', lineno=239, col_offset=4, endline=259, is_method=True, classname='TestPDB', closures=[], complexity=3), Function(name='test_pdb_print_captured_logs_nologging', lineno=261, col_offset=4, endline=278, is_method=True, classname='TestPDB', closures=[], complexity=3), Function(name='test_pdb_interaction_exception', lineno=280, col_offset=4, endline=298, is_method=True, classname='TestPDB', closures=[], complexity=1), Function(name='test_pdb_interaction_on_collection_issue181', lineno=300, col_offset=4, endline=312, is_method=True, classname='TestPDB', closures=[], complexity=1), Function(name='test_pdb_interaction_on_internal_error', lineno=314, col_offset=4, endline=338, is_method=True, classname='TestPDB', closures=[], complexity=2), Function(name='test_pdb_interaction_capturing_simple', lineno=340, col_offset=4, endline=362, is_method=True, classname='TestPDB', closures=[], complexity=5), Function(name='test_pdb_set_trace_kwargs', lineno=364, col_offset=4, endline=385, is_method=True, classname='TestPDB', closures=[], complexity=5), Function(name='test_pdb_set_trace_interception', lineno=387, col_offset=4, endline=403, is_method=True, classname='TestPDB', closures=[], complexity=4), Function(name='test_pdb_and_capsys', lineno=405, col_offset=4, endline=420, is_method=True, classname='TestPDB', closures=[], complexity=1), Function(name='test_pdb_with_caplog_on_pdb_invocation', lineno=422, col_offset=4, endline=438, is_method=True, classname='TestPDB', closures=[], complexity=1), Function(name='test_set_trace_capturing_afterwards', lineno=440, col_offset=4, endline=459, is_method=True, classname='TestPDB', closures=[], complexity=1), Function(name='test_pdb_interaction_doctest', lineno=461, col_offset=4, endline=484, is_method=True, classname='TestPDB', closures=[], complexity=4), Function(name='test_pdb_interaction_capturing_twice', lineno=486, col_offset=4, endline=519, is_method=True, classname='TestPDB', closures=[], complexity=5), Function(name='test_pdb_with_injected_do_debug', lineno=521, col_offset=4, endline=597, is_method=True, classname='TestPDB', closures=[], complexity=10), Function(name='test_pdb_without_capture', lineno=599, col_offset=4, endline=613, is_method=True, classname='TestPDB', closures=[], complexity=1), Function(name='test_pdb_continue_with_recursive_debug', lineno=615, col_offset=4, endline=615, is_method=True, classname='TestPDB', closures=[], complexity=11), Function(name='test_pdb_used_outside_test', lineno=707, col_offset=4, endline=719, is_method=True, classname='TestPDB', closures=[], complexity=1), Function(name='test_pdb_used_in_generate_tests', lineno=721, col_offset=4, endline=736, is_method=True, classname='TestPDB', closures=[], complexity=1), Function(name='test_pdb_collection_failure_is_shown', lineno=738, col_offset=4, endline=742, is_method=True, classname='TestPDB', closures=[], complexity=1), Function(name='test_enter_leave_pdb_hooks_are_called', lineno=745, col_offset=4, endline=788, is_method=True, classname='TestPDB', closures=[], complexity=3), Function(name='test_pdb_custom_cls', lineno=790, col_offset=4, endline=790, is_method=True, classname='TestPDB', closures=[], complexity=2), Function(name='test_pdb_custom_cls_invalid', lineno=796, col_offset=4, endline=800, is_method=True, classname='TestPDB', closures=[], complexity=1), Function(name='test_pdb_validate_usepdb_cls', lineno=804, col_offset=4, endline=804, is_method=True, classname='TestPDB', closures=[], complexity=3), Function(name='test_pdb_custom_cls_without_pdb', lineno=812, col_offset=4, endline=812, is_method=True, classname='TestPDB', closures=[], complexity=2), Function(name='test_pdb_custom_cls_with_settrace', lineno=818, col_offset=4, endline=845, is_method=True, classname='TestPDB', closures=[], complexity=1)], inner_classes=[], real_complexity=105),\n",
       " Function(name='test_pdb_on_xfail', lineno=103, col_offset=4, endline=103, is_method=True, classname='TestPDB', closures=[], complexity=3),\n",
       " Function(name='test_pdb_on_skip', lineno=116, col_offset=4, endline=116, is_method=True, classname='TestPDB', closures=[], complexity=3),\n",
       " Function(name='test_pdb_on_BdbQuit', lineno=128, col_offset=4, endline=128, is_method=True, classname='TestPDB', closures=[], complexity=3),\n",
       " Function(name='test_pdb_on_KeyboardInterrupt', lineno=140, col_offset=4, endline=140, is_method=True, classname='TestPDB', closures=[], complexity=3),\n",
       " Function(name='flush', lineno=151, col_offset=4, endline=156, is_method=True, classname='TestPDB', closures=[], complexity=3),\n",
       " Function(name='test_pdb_dont_print_empty_captured_stdout_and_stderr', lineno=224, col_offset=4, endline=237, is_method=True, classname='TestPDB', closures=[], complexity=3),\n",
       " Function(name='test_pdb_print_captured_logs', lineno=239, col_offset=4, endline=259, is_method=True, classname='TestPDB', closures=[], complexity=3),\n",
       " Function(name='test_pdb_print_captured_logs_nologging', lineno=261, col_offset=4, endline=278, is_method=True, classname='TestPDB', closures=[], complexity=3),\n",
       " Function(name='test_enter_leave_pdb_hooks_are_called', lineno=745, col_offset=4, endline=788, is_method=True, classname='TestPDB', closures=[], complexity=3),\n",
       " Function(name='test_pdb_validate_usepdb_cls', lineno=804, col_offset=4, endline=804, is_method=True, classname='TestPDB', closures=[], complexity=3),\n",
       " Function(name='test_sys_breakpoint_interception', lineno=943, col_offset=4, endline=964, is_method=True, classname='TestDebuggingBreakpoints', closures=[], complexity=3),\n",
       " Function(name='test_pdb_not_altered', lineno=966, col_offset=4, endline=985, is_method=True, classname='TestDebuggingBreakpoints', closures=[], complexity=3),\n",
       " Function(name='runpdb_and_get_report', lineno=24, col_offset=0, endline=29, is_method=False, classname=None, closures=[], complexity=2),\n",
       " Function(name='test_trace_after_runpytest', lineno=1020, col_offset=0, endline=1020, is_method=False, classname=None, closures=[], complexity=2),\n",
       " Function(name='test_quit_with_swallowed_SystemExit', lineno=1047, col_offset=0, endline=1072, is_method=False, classname=None, closures=[], complexity=2),\n",
       " Function(name='test_pdb_unittest_postmortem', lineno=158, col_offset=4, endline=176, is_method=True, classname='TestPDB', closures=[], complexity=2),\n",
       " Function(name='test_pdb_interaction_on_internal_error', lineno=314, col_offset=4, endline=338, is_method=True, classname='TestPDB', closures=[], complexity=2),\n",
       " Function(name='test_pdb_custom_cls', lineno=790, col_offset=4, endline=790, is_method=True, classname='TestPDB', closures=[], complexity=2),\n",
       " Function(name='test_pdb_custom_cls_without_pdb', lineno=812, col_offset=4, endline=812, is_method=True, classname='TestPDB', closures=[], complexity=2),\n",
       " Function(name='test_sys_breakpointhook_configure_and_unconfigure', lineno=861, col_offset=4, endline=893, is_method=True, classname='TestDebuggingBreakpoints', closures=[], complexity=2),\n",
       " Function(name='test_pdb_custom_cls', lineno=895, col_offset=4, endline=895, is_method=True, classname='TestDebuggingBreakpoints', closures=[], complexity=2),\n",
       " Function(name='test_environ_custom_class', lineno=911, col_offset=4, endline=941, is_method=True, classname='TestDebuggingBreakpoints', closures=[], complexity=2),\n",
       " Function(name='custom_pdb_calls', lineno=32, col_offset=0, endline=50, is_method=False, classname=None, closures=[], complexity=1),\n",
       " Function(name='custom_debugger_hook', lineno=53, col_offset=0, endline=74, is_method=False, classname=None, closures=[], complexity=1),\n",
       " Function(name='pdblist', lineno=78, col_offset=4, endline=88, is_method=True, classname='TestPDB', closures=[Function(name='mypdb', lineno=83, col_offset=8, endline=84, is_method=False, classname=None, closures=[], complexity=1)], complexity=1),\n",
       " Function(name='test_pdb_unittest_skip', lineno=178, col_offset=4, endline=193, is_method=True, classname='TestPDB', closures=[], complexity=1),\n",
       " Function(name='test_pdb_interaction_exception', lineno=280, col_offset=4, endline=298, is_method=True, classname='TestPDB', closures=[], complexity=1),\n",
       " Function(name='test_pdb_interaction_on_collection_issue181', lineno=300, col_offset=4, endline=312, is_method=True, classname='TestPDB', closures=[], complexity=1),\n",
       " Function(name='test_pdb_and_capsys', lineno=405, col_offset=4, endline=420, is_method=True, classname='TestPDB', closures=[], complexity=1),\n",
       " Function(name='test_pdb_with_caplog_on_pdb_invocation', lineno=422, col_offset=4, endline=438, is_method=True, classname='TestPDB', closures=[], complexity=1),\n",
       " Function(name='test_set_trace_capturing_afterwards', lineno=440, col_offset=4, endline=459, is_method=True, classname='TestPDB', closures=[], complexity=1),\n",
       " Function(name='test_pdb_without_capture', lineno=599, col_offset=4, endline=613, is_method=True, classname='TestPDB', closures=[], complexity=1),\n",
       " Function(name='test_pdb_used_outside_test', lineno=707, col_offset=4, endline=719, is_method=True, classname='TestPDB', closures=[], complexity=1),\n",
       " Function(name='test_pdb_used_in_generate_tests', lineno=721, col_offset=4, endline=736, is_method=True, classname='TestPDB', closures=[], complexity=1),\n",
       " Function(name='test_pdb_collection_failure_is_shown', lineno=738, col_offset=4, endline=742, is_method=True, classname='TestPDB', closures=[], complexity=1),\n",
       " Function(name='test_pdb_custom_cls_invalid', lineno=796, col_offset=4, endline=800, is_method=True, classname='TestPDB', closures=[], complexity=1),\n",
       " Function(name='test_pdb_custom_cls_with_settrace', lineno=818, col_offset=4, endline=845, is_method=True, classname='TestPDB', closures=[], complexity=1)]"
      ]
     },
     "execution_count": 29,
     "metadata": {},
     "output_type": "execute_result"
    }
   ],
   "source": [
    "from radon.complexity import cc_visit, sorted_results\n",
    "with open(file) as f:\n",
    "    content = f.read()\n",
    "    cc = cc_visit(content)\n",
    "sorted_results(cc)"
   ]
  }
 ],
 "metadata": {
  "kernelspec": {
   "display_name": "Python 3",
   "language": "python",
   "name": "python3"
  },
  "language_info": {
   "codemirror_mode": {
    "name": "ipython",
    "version": 3
   },
   "file_extension": ".py",
   "mimetype": "text/x-python",
   "name": "python",
   "nbconvert_exporter": "python",
   "pygments_lexer": "ipython3",
   "version": "3.6.9"
  }
 },
 "nbformat": 4,
 "nbformat_minor": 2
}
